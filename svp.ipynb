{
 "cells": [
  {
   "cell_type": "markdown",
   "metadata": {},
   "source": [
    "Stock Volatility Prediction"
   ]
  },
  {
   "cell_type": "markdown",
   "metadata": {},
   "source": [
    "The finite sum property of the least-squares objective, specifically the objective function is a sum of component errors across $D$ data points: $f(w) = \\sum_{d = 1}^Df^d(w)$. The function $f^d(w)$ is defined as: \n",
    "$$\n",
    "    f^d(w) :=\\left( v^d  - \\sum_{j=0}^{M+1} w_j h_j(d) \\right)^2\n",
    "$$\n",
    "where $M$ is the number of words in the vocabulary, $h_j(d) = \\log(1 + \\mathrm{freq}(w_j,d))$, where $\\mathrm{freq}(w_j,d)$ is the count of the number of times word $j$ arises in document $d$. \n",
    "\n",
    "1. Executing Linear Regression module of scikit-learn to minimize the mean squared error (MSE). This module applies Singular Value Decomposition (SVD which should result in the optimal coefficients of the model) to minimize MSE that amounts to finding a $w^*$ that satisfies $\\nabla f(w) = 0$. In this case, $w^*$ is guaranteed to get close to a global minimum because the linear regression model is convex which means there is only one minimum to converge towards which is the global minimum.<br></br>"
   ]
  },
  {
   "cell_type": "markdown",
   "metadata": {},
   "source": [
    "Now, we experiment with the parameters of Gradient Descent (GD) and Stochastic Gradient Descent (SGD). Specifically, the number of iterations, stopping tolerance, and step size rule, while focusing on improving the MSE from part 1.<br></br>\n",
    "We improved on the MSE on part 1, specifically by changing the step size rule from 'constant' to 'adaptive' and also decreasing the stopping tolerance from '1e-3' to '1e-4'. This helped in decreasing MSE the most. Also the run time per epoch in this case decreased significantly as we changed our step size rule."
   ]
  },
  {
   "cell_type": "markdown",
   "metadata": {},
   "source": [
    "Loading Data:"
   ]
  },
  {
   "cell_type": "code",
   "execution_count": null,
   "metadata": {},
   "outputs": [
    {
     "name": "stdout",
     "output_type": "stream",
     "text": [
      "              # of training observations:\t 16087               \n",
      "                  # of test observations:\t 3308                \n",
      "                           # of features:\t 4272227             \n"
     ]
    }
   ],
   "source": [
    "import numpy as np\n",
    "from sklearn.datasets import load_svmlight_file\n",
    "from sklearn import preprocessing\n",
    "\n",
    "def data_loader():    \n",
    "    X_train, y_train    = load_svmlight_file('log1p.E2006.train.bz2',   n_features=4272227)\n",
    "    X_test, y_test      = load_svmlight_file('log1p.E2006.test.bz2',    n_features=4272227)\n",
    "    scaler = preprocessing.Normalizer().fit(X_train)\n",
    "    X_train             = scaler.transform(X_train)\n",
    "    X_test              = scaler.transform(X_test)\n",
    "    return  X_train, X_test, y_train, y_test\n",
    "\n",
    "X_train, X_test, y_train, y_test    = data_loader()\n",
    "num_train_obs, num_features         = np.shape(X_train)\n",
    "num_test_obs, num_features          = np.shape(X_test)    \n",
    "\n",
    "# Print basic stats of data set\n",
    "print('{:>40s}:\\t {:<20.0f}'.format('# of training observations',num_train_obs))\n",
    "print('{:>40s}:\\t {:<20.0f}'.format('# of test observations',num_test_obs))\n",
    "print('{:>40s}:\\t {:<20.0f}'.format('# of features',num_features))"
   ]
  },
  {
   "cell_type": "markdown",
   "metadata": {},
   "source": [
    "Gradient Descent (GD):"
   ]
  },
  {
   "cell_type": "code",
   "execution_count": null,
   "metadata": {},
   "outputs": [
    {
     "name": "stdout",
     "output_type": "stream",
     "text": [
      "\n",
      "Gradient Descent:\n",
      "\n",
      "      Iteration      Train MSE       Test MSE Train R-square  Test R-square    Tot runtime\n",
      "              0         0.3743         0.4159         0.0638           -0.4            1.7\n",
      "            100         0.2582         0.3054         0.3542           -0.1           67.2\n",
      "            200         0.2506         0.2951         0.3732           -0.0          131.3\n",
      "            300         0.2500         0.2983         0.3747           -0.0          199.1\n",
      "            400         0.2487         0.2954         0.3779           -0.0          279.9\n",
      "            500         0.2479         0.2930         0.3799           -0.0          355.1\n",
      "            600         0.2487         0.2978         0.3778           -0.0          421.4\n",
      "            700         0.2484         0.2971         0.3786           -0.0          508.5\n",
      "            800         0.2490         0.2996         0.3771           -0.0          588.1\n",
      "            900         0.2484         0.2976         0.3786           -0.0          659.7\n",
      "           1000         0.2469         0.2884         0.3823            0.0          751.7\n",
      "Per update runtime:          0.741\n"
     ]
    }
   ],
   "source": [
    "import numpy as np\n",
    "from sklearn.linear_model import SGDRegressor\n",
    "from sklearn.metrics import mean_squared_error\n",
    "import time\n",
    "gd             = SGDRegressor(\n",
    "                                    fit_intercept   = False,\n",
    "                                    penalty= 'l1',\n",
    "                                    alpha           = 0.001,\n",
    "                                    max_iter        = 700,\n",
    "                                    learning_rate   = 'constant',\n",
    "                                    tol             = 1e-3)\n",
    "\n",
    "print('\\nGradient Descent:\\n')\n",
    "print('{:>15}{:>15}{:>15}{:>15}{:>15}{:>15}'.format('Iteration','Train MSE','Test MSE','Train R-square','Test R-square','Tot runtime'))\n",
    "\n",
    "start = time.time()\n",
    "\n",
    "per_iter_runtime_list = []\n",
    "# Max number of iterations set to 1000\n",
    "for _ in range(1001):\n",
    "\n",
    "    per_iter_start   = time.time()\n",
    "    gd.partial_fit(X_train, y_train)\n",
    "    per_iter_runtime = time.time() - per_iter_start\n",
    "    per_iter_runtime_list.append(per_iter_runtime)\n",
    "\n",
    "    # The if statement here will execute every 100 iterations\n",
    "    if _%100==0:\n",
    "        gd_train_error          = mean_squared_error(gd.predict(X_train), y_train)\n",
    "        gd_test_error           = mean_squared_error(gd.predict(X_test), y_test)\n",
    "        gd_r_square_train       = gd.score(X_train, y_train)    \n",
    "        gd_r_square_test        = gd.score(X_test, y_test)   \n",
    "        print('{:>15.0f}{:>15.4f}{:>15.4f}{:>15.4f}{:>15.1f}{:>15.1f}'.format(_,gd_train_error,gd_test_error,gd_r_square_train,gd_r_square_test,time.time()-start))\n",
    "    \n",
    "print('Per update runtime:{:>15.3f}'.format(np.mean(per_iter_runtime_list)))"
   ]
  },
  {
   "cell_type": "markdown",
   "metadata": {},
   "source": [
    "Stochastic Gradient Descent (SGD):"
   ]
  },
  {
   "cell_type": "code",
   "execution_count": null,
   "metadata": {},
   "outputs": [
    {
     "name": "stdout",
     "output_type": "stream",
     "text": [
      "Stochastic Gradient Descent via SGD:\n",
      "\n",
      "          alpha|  learning_rate|        penalty|      Train MSE|       Test MSE| Train R-square|  Test R-square|    runtime (s)\n",
      "         0.0100|       constant|             l1|         0.3998|           0.38|          -0.00|          -0.32|          13.33\n",
      "         0.0100|       constant|             l2|         0.2830|           0.28|           0.29|           0.03|          13.64\n",
      "         0.0100|       adaptive|             l1|         0.3998|           0.38|          -0.00|          -0.32|          29.33\n",
      "         0.0100|       adaptive|             l2|         0.2815|           0.27|           0.30|           0.06|          26.50\n",
      "         0.0010|       constant|             l1|         0.2639|           0.28|           0.34|           0.04|          21.17\n",
      "         0.0010|       constant|             l2|         0.1816|           0.19|           0.55|           0.33|          24.20\n",
      "         0.0010|       adaptive|             l1|         0.2648|           0.28|           0.34|           0.03|          45.15\n",
      "         0.0010|       adaptive|             l2|         0.1821|           0.19|           0.54|           0.33|          31.31\n",
      "         0.0001|       constant|             l1|         0.1425|           0.16|           0.64|           0.45|         267.11\n",
      "         0.0001|       constant|             l2|         0.0952|           0.15|           0.76|           0.48|          45.07\n",
      "         0.0001|       adaptive|             l1|         0.1420|           0.16|           0.64|           0.45|         275.90\n",
      "         0.0001|       adaptive|             l2|         0.0945|           0.15|           0.76|           0.48|          60.68\n"
     ]
    }
   ],
   "source": [
    "import itertools\n",
    "\n",
    "print('Stochastic Gradient Descent via SGD:\\n')\n",
    "print('{:>15}|{:>15}|{:>15}|{:>15}|{:>15}|{:>15}|{:>15}|{:>15}'.format('alpha','learning_rate','penalty','Train MSE','Test MSE','Train R-square','Test R-square','runtime (s)'))\n",
    "params = itertools.product(*[[1e-2,1e-3,1e-4],['constant', 'adaptive'],['l1','l2']])\n",
    "\n",
    "for param in params:\n",
    "    start = time.time()\n",
    "    sgd             = SGDRegressor(                                    \n",
    "                                        fit_intercept   = True,\n",
    "                                        penalty         = param[2],\n",
    "                                        alpha           = param[0],\n",
    "                                        max_iter        = 1000,\n",
    "                                        learning_rate   = param[1],\n",
    "                                        tol             = 1e-5,\n",
    "                                        verbose         = False         # Change to True to see the per iteration cost\n",
    "                                        )   \n",
    "\n",
    "    #Execute SGD method\n",
    "    sgd.fit(X_train, y_train)\n",
    "    runtime = time.time() - start\n",
    "    sgd_train_error         = mean_squared_error(sgd.predict(X_train), y_train)\n",
    "    sgd_test_error          = mean_squared_error(sgd.predict(X_test), y_test)\n",
    "    sgd_r_square_train      = sgd.score(X_train, y_train)    \n",
    "    sgd_r_square_test       = sgd.score(X_test, y_test)   \n",
    "\n",
    "    print('{:>15.4f}|{:>15}|{:>15.2}|{:>15.4f}|{:>15.2f}|{:>15.2f}|{:>15.2f}|{:>15.2f}'.format(param[0],param[1],param[2],sgd_train_error,sgd_test_error,sgd_r_square_train,sgd_r_square_test,runtime))\n"
   ]
  },
  {
   "cell_type": "markdown",
   "metadata": {},
   "source": [
    "Procedding further by computing the partial derivative of $f^d(w)$ with respect to a given $w_j$. This was required after realizing that if a word $j$ does not appear in document $d$, that is, $\\mathrm{freq}(w_j,d) = 0$, then $h_j(d)$ = 0. Therefore, the partial derivative expression reduces to 0. This means that this partial derivative of $f^d(w)$ with respect to $w_j$ is 0 when word j does not appear in a document $d$. <br></br>\n",
    "Also, the sparsity of a matrix refers to the property that many of its elements are zero. In conclusion, if we apply the above result to each document, we can see that we only need to compute the partial derivatives for the non-zero elements of the feature matrix. Therefore, the sparsity of a matrix greatly reduces the number of computations resulting in reduced cost of computing the gradient with respect to the number of features (i.e., $M$), which can be especially significant when M is large (in millions in this case), eventually speeding up the optimization process which can prove to be very beneficial in terms of cheaper gradient calculation, cost cutting, time saving, and efficiency."
   ]
  },
  {
   "cell_type": "code",
   "execution_count": null,
   "metadata": {},
   "outputs": [],
   "source": [
    "\"\"\"\n",
    "    =====================\n",
    "    Code for Loading Data\n",
    "    =====================\n",
    "\"\"\"\n",
    "from sklearn.datasets import load_svmlight_file\n",
    "from sklearn.preprocessing import Normalizer\n",
    "import matplotlib.pyplot as plt\n",
    "import numpy as np\n",
    "\n",
    "\n",
    "def data_loader():    \n",
    "    X_train, y_train    = load_svmlight_file('kddb-raw-libsvm.train.bz2',   n_features=1163024)\n",
    "    X_test, y_test      = load_svmlight_file('kddb-raw-libsvm.test.bz2',    n_features=1163024)\n",
    "\n",
    "    # Normalize the data using StandardScaler, which scales the data to unit norm.\n",
    "    # This line computes the normalization coefficient\n",
    "    scaler = Normalizer().fit(X_train)\n",
    "\n",
    "    # Use the tranform function to normalize the training and test feature data\n",
    "    # Since we calling it from the scaler instance we created, it knows the correct\n",
    "    # scaling for normalization\n",
    "    X_train             = scaler.transform(X_train)\n",
    "    X_test              = scaler.transform(X_test)\n",
    "\n",
    "    return  X_train, X_test, y_train, y_test\n",
    "\n",
    "if __name__== \"__main__\":\n",
    "    X_train, X_test, y_train, y_test    = data_loader()"
   ]
  },
  {
   "cell_type": "code",
   "execution_count": null,
   "metadata": {},
   "outputs": [
    {
     "name": "stdout",
     "output_type": "stream",
     "text": [
      "Train set: (19264097, 1163024)\n",
      "Train set: (748401, 1163024)\n",
      "Count of each class: (array([0., 1.]), array([ 2684437, 16579660]))\n"
     ]
    },
    {
     "data": {
      "image/png": "[encoded data removed]",
      "text/plain": [
       "<Figure size 640x480 with 1 Axes>"
      ]
     },
     "metadata": {},
     "output_type": "display_data"
    }
   ],
   "source": [
    "if __name__== \"__main__\":\n",
    "    print('Train set:',np.shape(X_train))\n",
    "    print('Train set:',np.shape(X_test))\n",
    "    plt.hist(y_train,density=True)\n",
    "    #plt.hist(y_test,density=True) \n",
    "    print('Count of each class:', np.unique(y_train,return_counts=True))"
   ]
  },
  {
   "cell_type": "code",
   "execution_count": null,
   "metadata": {},
   "outputs": [
    {
     "data": {
      "image/png": "[encoded data removed]",
      "text/plain": [
       "<Figure size 640x480 with 2 Axes>"
      ]
     },
     "metadata": {},
     "output_type": "display_data"
    }
   ],
   "source": [
    "import matplotlib.pyplot as plt\n",
    "\n",
    "if __name__== \"__main__\":\n",
    "    S1 = X_train\n",
    "    StartRow = 0\n",
    "    numRows = 100\n",
    "    EndRow = StartRow + numRows\n",
    "    numPointsStart = S1.indptr[StartRow]\n",
    "    numPointsEnd = S1.indptr[StartRow + numRows]\n",
    "    numPoints = numPointsEnd - numPointsStart\n",
    "    xVals = S1.indices[numPointsStart:numPointsEnd]\n",
    "\n",
    "    yVals = np.empty(numPoints, dtype= np.int32) \n",
    "    for rowInd in range(StartRow,EndRow):\n",
    "        # print(\"Row Index: \", rowInd)\n",
    "        dataStart = S1.indptr[rowInd]\n",
    "        dataEnd = S1.indptr[rowInd + 1]\n",
    "        # print(dataStart,dataEnd)\n",
    "        for colInd in range(dataStart,dataEnd):\n",
    "            yVals[colInd - S1.indptr[StartRow]] = rowInd\n",
    "\n",
    "    dataVals = S1.data[numPointsStart:numPointsEnd]\n",
    "\n",
    "    plt.scatter(xVals, yVals, c=dataVals, cmap='inferno')\n",
    "    ax = plt.gca()\n",
    "    ax.set_ylim(ax.get_ylim()[::-1])\n",
    "    plt.colorbar()\n",
    "    plt.show()"
   ]
  },
  {
   "cell_type": "markdown",
   "metadata": {},
   "source": [
    "Objective Function for model:\n",
    "$$\n",
    "1/n \\sum_{1=0}^{n} max \\{ 0, 1 - y_i f(x_i;w) \\},\n",
    "$$"
   ]
  },
  {
   "cell_type": "code",
   "execution_count": null,
   "metadata": {},
   "outputs": [
    {
     "name": "stdout",
     "output_type": "stream",
     "text": [
      "====================================================================================================\n",
      "-- Epoch 1\n",
      "Norm: 426.66, NNZs: 554969, Bias: 0.000000, T: 19264097, Avg. loss: 0.383528\n",
      "Total training time: 5.62 seconds.\n",
      "-- Epoch 2\n",
      "Norm: 616.94, NNZs: 684704, Bias: 0.000000, T: 38528194, Avg. loss: 0.380198\n",
      "Total training time: 10.17 seconds.\n",
      "-- Epoch 3\n",
      "Norm: 799.06, NNZs: 757507, Bias: 0.000000, T: 57792291, Avg. loss: 0.377629\n",
      "Total training time: 14.79 seconds.\n",
      "-- Epoch 4\n",
      "Norm: 973.75, NNZs: 805999, Bias: 0.000000, T: 77056388, Avg. loss: 0.375243\n",
      "Total training time: 19.65 seconds.\n",
      "-- Epoch 5\n",
      "Norm: 1140.68, NNZs: 841329, Bias: 0.000000, T: 96320485, Avg. loss: 0.373171\n",
      "Total training time: 24.88 seconds.\n",
      "-- Epoch 6\n",
      "Norm: 1301.95, NNZs: 868303, Bias: 0.000000, T: 115584582, Avg. loss: 0.371298\n",
      "Total training time: 29.41 seconds.\n",
      "-- Epoch 7\n",
      "Norm: 1457.70, NNZs: 890235, Bias: 0.000000, T: 134848679, Avg. loss: 0.369517\n",
      "Total training time: 33.94 seconds.\n",
      "-- Epoch 8\n",
      "Norm: 1606.96, NNZs: 908120, Bias: 0.000000, T: 154112776, Avg. loss: 0.367927\n",
      "Total training time: 38.47 seconds.\n",
      "-- Epoch 9\n",
      "Norm: 1750.81, NNZs: 922956, Bias: 0.000000, T: 173376873, Avg. loss: 0.366388\n",
      "Total training time: 42.99 seconds.\n",
      "-- Epoch 10\n",
      "Norm: 1888.93, NNZs: 935720, Bias: 0.000000, T: 192640970, Avg. loss: 0.365002\n",
      "Total training time: 47.52 seconds.\n",
      "-- Epoch 11\n",
      "Norm: 2021.15, NNZs: 946785, Bias: 0.000000, T: 211905067, Avg. loss: 0.363607\n",
      "Total training time: 52.05 seconds.\n",
      "-- Epoch 12\n",
      "Norm: 2147.93, NNZs: 956404, Bias: 0.000000, T: 231169164, Avg. loss: 0.362512\n",
      "Total training time: 56.57 seconds.\n",
      "-- Epoch 13\n",
      "Norm: 2269.49, NNZs: 964750, Bias: 0.000000, T: 250433261, Avg. loss: 0.361422\n",
      "Total training time: 61.29 seconds.\n",
      "-- Epoch 14\n",
      "Norm: 2385.72, NNZs: 972197, Bias: 0.000000, T: 269697358, Avg. loss: 0.360493\n",
      "Total training time: 65.81 seconds.\n",
      "-- Epoch 15\n",
      "Norm: 2496.67, NNZs: 978792, Bias: 0.000000, T: 288961455, Avg. loss: 0.359538\n",
      "Total training time: 70.31 seconds.\n",
      "-- Epoch 16\n",
      "Norm: 2602.56, NNZs: 984619, Bias: 0.000000, T: 308225552, Avg. loss: 0.358697\n",
      "Total training time: 75.95 seconds.\n",
      "-- Epoch 17\n",
      "Norm: 2703.85, NNZs: 989866, Bias: 0.000000, T: 327489649, Avg. loss: 0.357938\n",
      "Total training time: 81.78 seconds.\n",
      "-- Epoch 18\n",
      "Norm: 2800.70, NNZs: 994552, Bias: 0.000000, T: 346753746, Avg. loss: 0.357419\n",
      "Total training time: 89.53 seconds.\n",
      "Convergence after 18 epochs took 89.53 seconds\n",
      "====================================================================================================\n",
      " Train Accuracy  Test Accuracy       # Epochs        Runtime\n",
      "        0.86102        0.86798             18         96.424\n",
      "====================================================================================================\n"
     ]
    }
   ],
   "source": [
    "from sklearn.linear_model import SGDClassifier\n",
    "import time\n",
    "import numpy as np\n",
    "\n",
    "if __name__== \"__main__\":\n",
    "    model             = SGDClassifier(\n",
    "                            loss                = 'hinge',\n",
    "                            penalty             = 'l2',\n",
    "                            alpha               = 0.0,\n",
    "                            l1_ratio            = 0.0,\n",
    "                            fit_intercept       = False,     \n",
    "                            n_jobs              = 10,       # optional\n",
    "                            learning_rate       = 'constant',\n",
    "                            eta0                = 1,\n",
    "                            verbose             = 1,\n",
    "                            random_state        = 321,   \n",
    "                            )\n",
    "\n",
    "    start                 = time.time()\n",
    "    print('='*100)                            \n",
    "    model.fit(X_train, y_train)\n",
    "    print('='*100)          \n",
    "    train_accuracy       = model.score(X_train, y_train)    \n",
    "    test_accuracy        = model.score(X_test, y_test)   \n",
    "    SGD_n_iter_          = model.n_iter_\n",
    "    runtime              = time.time() - start\n",
    "\n",
    "    print('{:>15}{:>15}{:>15}{:>15}'.format('Train Accuracy','Test Accuracy','# Epochs','Runtime'))\n",
    "    print('{:>15.5f}{:>15.5f}{:>15.0f}{:>15.3f}'.format(train_accuracy,test_accuracy,SGD_n_iter_,runtime))\n",
    "    print('='*100)       "
   ]
  },
  {
   "cell_type": "code",
   "execution_count": null,
   "metadata": {},
   "outputs": [
    {
     "name": "stdout",
     "output_type": "stream",
     "text": [
      "====================================================================================================\n",
      "Gradient Descent:\n",
      "      Iteration Train Accuracy  Test Accuracy        Runtime\n",
      "              0         0.8574         0.8707         12.233\n",
      "              1         0.8603         0.8737         24.093\n",
      "              2         0.8631         0.8766         35.799\n",
      "              3         0.8627         0.8735         47.439\n",
      "              4         0.8647         0.8773         59.138\n",
      "              5         0.8650         0.8754         70.886\n",
      "              6         0.8631         0.8712         82.580\n",
      "              7         0.8649         0.8726         94.244\n",
      "              8         0.8624         0.8670        106.121\n",
      "              9         0.8649         0.8710        117.759\n",
      "             10         0.8638         0.8696        129.433\n",
      "             11         0.8656         0.8699        141.163\n",
      "             12         0.8660         0.8709        152.772\n",
      "             13         0.8646         0.8704        164.197\n",
      "             14         0.8704         0.8776        175.383\n",
      "             15         0.8667         0.8702        186.662\n",
      "             16         0.8676         0.8730        198.892\n",
      "             17         0.8686         0.8741        211.052\n",
      "====================================================================================================\n"
     ]
    }
   ],
   "source": [
    "from sklearn.linear_model import SGDClassifier\n",
    "import time\n",
    "import numpy as np\n",
    "\n",
    "if __name__== \"__main__\":\n",
    "    model             = SGDClassifier(\n",
    "                            loss                = 'hinge',\n",
    "                            penalty             = 'l2',\n",
    "                            alpha               = 0.0,\n",
    "                            l1_ratio            = 0.0,\n",
    "                            fit_intercept       = False,     \n",
    "                            n_jobs              = 10,       # optional\n",
    "                            learning_rate       = 'constant',\n",
    "                            eta0                = 1,\n",
    "                            verbose             = 0,\n",
    "                            random_state        = 321\n",
    "                            )\n",
    "\n",
    "    print('='*100)\n",
    "    print('Gradient Descent:')\n",
    "    print('{:>15}{:>15}{:>15}{:>15}'.format('Iteration','Train Accuracy','Test Accuracy','Runtime'))\n",
    "\n",
    "    start                   = time.time()\n",
    "    per_iter_runtime_list   = []\n",
    "    \n",
    "    for _ in range(SGD_n_iter_):\n",
    "        per_iter_start   = time.time()\n",
    "        model.partial_fit(X_train, y_train,classes=np.unique(y_train))\n",
    "        per_iter_runtime = time.time() - per_iter_start\n",
    "        per_iter_runtime_list.append(per_iter_runtime)\n",
    "\n",
    "        if _%1==0:\n",
    "            train_accuracy       = model.score(X_train, y_train)    \n",
    "            test_accuracy        = model.score(X_test, y_test)   \n",
    "            print('{:>15.0f}{:>15.4f}{:>15.4f}{:>15.3f}'.format(_,train_accuracy,test_accuracy,time.time()-start))\n",
    "    \n",
    "    print('='*100)"
   ]
  },
  {
   "cell_type": "markdown",
   "metadata": {},
   "source": [
    "The total runtime of GD compared to the SGD is much more.\n",
    "The average of GD runtime across the epochs compare to the average SGD runtime per epoch is also a lot.\n",
    "The terminal training and test accuracies of the model fitted by GD are almost the same as compared to SGD."
   ]
  },
  {
   "cell_type": "code",
   "execution_count": null,
   "metadata": {},
   "outputs": [
    {
     "name": "stdout",
     "output_type": "stream",
     "text": [
      "====================================================================================================\n",
      "            Tol Train Accuracy  Test Accuracy       # Epochs        Runtime\n",
      "          1e-02        0.86157        0.87166              6         36.306\n",
      "          1e-03        0.86102        0.86798             18         90.646\n",
      "          1e-04        0.86897        0.87072             46        218.684\n",
      "          1e-05        0.87466        0.87931             61        301.758\n",
      "          1e-06        0.87347        0.87888             71        339.941\n",
      "          1e-07        0.87347        0.87888             71        549.132\n",
      "====================================================================================================\n"
     ]
    }
   ],
   "source": [
    "from sklearn.linear_model import SGDClassifier\n",
    "from sklearn.metrics import mean_squared_error\n",
    "import time\n",
    "\n",
    "import numpy as np\n",
    "\n",
    "if __name__== \"__main__\":\n",
    "    \n",
    "    print('='*100)   \n",
    "    print('{:>15}{:>15}{:>15}{:>15}{:>15}'.format('Tol','Train Accuracy','Test Accuracy','# Epochs','Runtime'))\n",
    "    for tol in [1e-2,1e-3,1e-4,1e-5,1e-6,1e-7]:\n",
    "\n",
    "        model             = SGDClassifier(\n",
    "                                loss                = 'hinge',\n",
    "                                penalty             = 'l2',\n",
    "                                alpha               = 0.0,\n",
    "                                l1_ratio            = 0.0,\n",
    "                                fit_intercept       = False,     \n",
    "                                n_jobs              = 10,       # optional\n",
    "                                learning_rate       = 'constant',\n",
    "                                eta0                = 1,\n",
    "                                verbose             = 0,\n",
    "                                tol                 = tol,\n",
    "                                random_state        = 321\n",
    "                                )\n",
    "\n",
    "        start                 = time.time()            \n",
    "        model.fit(X_train, y_train) \n",
    "        train_accuracy       = model.score(X_train, y_train)    \n",
    "        test_accuracy        = model.score(X_test, y_test)   \n",
    "        runtime              = time.time() - start\n",
    "        print('{:>15.0e}{:>15.5f}{:>15.5f}{:>15.0f}{:>15.3f}'.format(tol, train_accuracy,test_accuracy,model.n_iter_,runtime))\n",
    "    print('='*100)       "
   ]
  },
  {
   "cell_type": "markdown",
   "metadata": {},
   "source": [
    "Model 2 via SGD:"
   ]
  },
  {
   "cell_type": "code",
   "execution_count": null,
   "metadata": {},
   "outputs": [
    {
     "name": "stdout",
     "output_type": "stream",
     "text": [
      "====================================================================================================\n",
      "-- Epoch 1\n",
      "Norm: 26.68, NNZs: 319287, Bias: 0.000000, T: 19264097, Avg. loss: 0.352230\n",
      "Total training time: 6.05 seconds.\n",
      "-- Epoch 2\n",
      "Norm: 25.74, NNZs: 318611, Bias: 0.000000, T: 38528194, Avg. loss: 0.352234\n",
      "Total training time: 10.79 seconds.\n",
      "-- Epoch 3\n",
      "Norm: 25.84, NNZs: 318459, Bias: 0.000000, T: 57792291, Avg. loss: 0.352284\n",
      "Total training time: 15.58 seconds.\n",
      "-- Epoch 4\n",
      "Norm: 26.78, NNZs: 318242, Bias: 0.000000, T: 77056388, Avg. loss: 0.352239\n",
      "Total training time: 20.32 seconds.\n",
      "-- Epoch 5\n",
      "Norm: 26.05, NNZs: 319162, Bias: 0.000000, T: 96320485, Avg. loss: 0.352239\n",
      "Total training time: 25.64 seconds.\n",
      "-- Epoch 6\n",
      "Norm: 26.91, NNZs: 317896, Bias: 0.000000, T: 115584582, Avg. loss: 0.352268\n",
      "Total training time: 30.41 seconds.\n",
      "Convergence after 6 epochs took 30.42 seconds\n",
      "====================================================================================================\n",
      " Train Accuracy  Test Accuracy       # Epochs        Runtime\n",
      "        0.85271        0.87425              6         37.893\n",
      "====================================================================================================\n"
     ]
    }
   ],
   "source": [
    "from sklearn.linear_model import SGDClassifier\n",
    "from sklearn.metrics import mean_squared_error\n",
    "import time\n",
    "import numpy as np\n",
    "\n",
    "if __name__== \"__main__\":\n",
    "    model             = SGDClassifier(\n",
    "                            loss                = 'hinge',\n",
    "                            penalty             = 'l2',\n",
    "                            alpha               = 1e-4,\n",
    "                            l1_ratio            = 0.0,\n",
    "                            fit_intercept       = False,     \n",
    "                            n_jobs              = 10,       # optional\n",
    "                            learning_rate       = 'constant',\n",
    "                            eta0                = 1,\n",
    "                            verbose             = 1,\n",
    "                            tol                 = tol,\n",
    "                            random_state        = 321\n",
    "                            )\n",
    "\n",
    "\n",
    "    start                 = time.time()\n",
    "    print('='*100)                            \n",
    "    model.fit(X_train, y_train)\n",
    "    print('='*100)          \n",
    "    train_accuracy       = model.score(X_train, y_train)    \n",
    "    test_accuracy        = model.score(X_test, y_test)   \n",
    "    SGD_n_iter_          = model.n_iter_\n",
    "    runtime              = time.time() - start\n",
    "\n",
    "    print('{:>15}{:>15}{:>15}{:>15}'.format('Train Accuracy','Test Accuracy','# Epochs','Runtime'))\n",
    "    print('{:>15.5f}{:>15.5f}{:>15.0f}{:>15.3f}'.format(train_accuracy,test_accuracy,SGD_n_iter_,runtime))\n",
    "    print('='*100) "
   ]
  },
  {
   "cell_type": "markdown",
   "metadata": {},
   "source": [
    "Paramter fine-tuning:"
   ]
  },
  {
   "cell_type": "code",
   "execution_count": null,
   "metadata": {},
   "outputs": [
    {
     "name": "stdout",
     "output_type": "stream",
     "text": [
      "====================================================================================================\n",
      "          alpha  learning_rate Train Accuracy  Test Accuracy       # Epochs        Runtime\n",
      "          1e-04        optimal        0.86066        0.88774              8         47.777\n",
      "          1e-04       adaptive        0.86066        0.88774             61        331.013\n",
      "          1e-03        optimal        0.86065        0.88772              7         41.355\n",
      "          1e-03       adaptive        0.86065        0.88772             60        297.377\n",
      "          1e-02        optimal        0.86065        0.88772              6         38.940\n",
      "          1e-02       adaptive        0.86065        0.88772             67        396.968\n",
      "          1e-01        optimal        0.86065        0.88772              6         49.371\n",
      "          1e-01       adaptive        0.86065        0.88772             62        611.030\n",
      "          1e+00        optimal        0.86065        0.88772              6         49.083\n"
     ]
    }
   ],
   "source": [
    "from sklearn.linear_model import SGDClassifier\n",
    "from sklearn.metrics import mean_squared_error\n",
    "import time\n",
    "import numpy as np\n",
    "\n",
    "if __name__== \"__main__\":\n",
    "\n",
    "    param_list = [(1e-4,'optimal'),(1e-4,'adaptive'),\n",
    "                  (1e-3,'optimal'),(1e-3,'adaptive'),\n",
    "                  (1e-2,'optimal'),(1e-2,'adaptive'),\n",
    "                  (1e-1,'optimal'),(1e-1,'adaptive'),\n",
    "                  (1e-0,'optimal'),(1e-0,'adaptive')]\n",
    "\n",
    "    print('='*100)   \n",
    "    print('{:>15}{:>15}{:>15}{:>15}{:>15}{:>15}'.format('alpha','learning_rate','Train Accuracy','Test Accuracy','# Epochs','Runtime'))\n",
    "    for param in param_list:\n",
    "        model  = SGDClassifier(\n",
    "                        loss                = 'hinge',\n",
    "                        penalty             = 'l2',\n",
    "                        alpha               = param[0],\n",
    "                        l1_ratio            = 0.0,\n",
    "                        fit_intercept       = False,     \n",
    "                        n_jobs              = 10,       # optional\n",
    "                        learning_rate       = param[1],\n",
    "                        eta0                = 1,\n",
    "                        verbose             = 0,\n",
    "                        tol                 = 1e-5,\n",
    "                        random_state        = 321\n",
    "                        )\n",
    "\n",
    "        start                 = time.time()            \n",
    "        model.fit(X_train, y_train) \n",
    "        train_accuracy       = model.score(X_train, y_train)    \n",
    "        test_accuracy        = model.score(X_test, y_test)   \n",
    "        runtime              = time.time() - start\n",
    "        print('{:>15.0e}{:>15}{:>15.5f}{:>15.5f}{:>15.0f}{:>15.3f}'.format(param[0],param[1], train_accuracy,test_accuracy,model.n_iter_,runtime))\n",
    "    print('='*100)       "
   ]
  },
  {
   "cell_type": "markdown",
   "metadata": {},
   "source": [
    "Experimentation for the runtime and the accuracy of SGD when the loss function in model 2 is varied:"
   ]
  },
  {
   "cell_type": "code",
   "execution_count": null,
   "metadata": {},
   "outputs": [
    {
     "name": "stdout",
     "output_type": "stream",
     "text": [
      "========================================================================================================================\n",
      "          alpha       l1_ratio Train Accuracy  Test Accuracy       # Epochs        Runtime      # Nonzero\n",
      "          1e-02           0.05        0.86063        0.88771              6         75.321            124\n",
      "          1e-02            0.1        0.86058        0.88760              6         55.437             21\n",
      "          1e-02           0.15        0.85813        0.88472              6         62.426             10\n",
      "          1e-03           0.05        0.86067        0.88774              6        112.451            308\n",
      "          1e-03            0.1        0.86070        0.88772              6         55.831             96\n",
      "          1e-03           0.15        0.86070        0.88773              6         54.107             57\n",
      "          1e-04           0.05        0.86068        0.88774              7         67.069           1350\n",
      "          1e-04            0.1        0.86068        0.88774              7         62.794            611\n",
      "          1e-04           0.15        0.86069        0.88773              7         70.275            381\n",
      "          1e-05           0.05        0.86171        0.88830              8         72.367           7092\n",
      "          1e-05            0.1        0.86181        0.88835              8         73.300           4492\n",
      "          1e-05           0.15        0.86178        0.88828              7         63.230           3220\n",
      "========================================================================================================================\n"
     ]
    }
   ],
   "source": [
    "from sklearn.linear_model import SGDClassifier\n",
    "from sklearn.metrics import mean_squared_error\n",
    "import time\n",
    "\n",
    "import numpy as np\n",
    "\n",
    "if __name__== \"__main__\":\n",
    "    print('='*120) \n",
    "    print('{:>15}{:>15}{:>15}{:>15}{:>15}{:>15}{:>15}'.format('alpha','l1_ratio','Train Accuracy','Test Accuracy','# Epochs','Runtime','# Nonzero'))\n",
    "\n",
    "    param_list = [  (1e-2,.05),(1e-2,.1),(1e-2,.15), \n",
    "                    (1e-3,.05),(1e-3,.1),(1e-3,.15),\n",
    "                    (1e-4,.05),(1e-4,.1),(1e-4,.15),\n",
    "                    (1e-5,.05),(1e-5,.1),(1e-5,.15),\n",
    "                    ]\n",
    "\n",
    "    for param in param_list:\n",
    "        model               = SGDClassifier(\n",
    "                                loss                = 'hinge',\n",
    "                                penalty             = 'elasticnet',\n",
    "                                alpha               = param[0],\n",
    "                                l1_ratio            = param[1],\n",
    "                                fit_intercept       = False,     \n",
    "                                n_jobs              = 10,\n",
    "                                learning_rate       = 'optimal',\n",
    "                                verbose             = 0,\n",
    "                                tol                 = 1e-4,\n",
    "                                random_state        = 321\n",
    "        )\n",
    "\n",
    "        start                 = time.time()\n",
    "        model.fit(X_train, y_train)\n",
    "        train_accuracy       = model.score(X_train, y_train)    \n",
    "        test_accuracy        = model.score(X_test, y_test)   \n",
    "        SGD_n_iter_          = model.n_iter_\n",
    "        runtime              = time.time() - start\n",
    "\n",
    "        print('{:>15.0e}{:>15}{:>15.5f}{:>15.5f}{:>15.0f}{:>15.3f}{:>15.0f}'.format(param[0],param[1],train_accuracy,test_accuracy,SGD_n_iter_,runtime,np.count_nonzero(model.coef_)))\n",
    "\n",
    "    print('='*120) "
   ]
  },
  {
   "cell_type": "code",
   "execution_count": null,
   "metadata": {},
   "outputs": [
    {
     "name": "stdout",
     "output_type": "stream",
     "text": [
      "========================================================================================================================\n",
      "           loss Train Accuracy  Test Accuracy       # Epochs        Runtime      # Nonzero\n",
      "          hinge        0.86181        0.88835              8        104.178           4492\n"
     ]
    }
   ],
   "source": [
    "from sklearn.linear_model import SGDClassifier\n",
    "from sklearn.metrics import mean_squared_error\n",
    "import time\n",
    "\n",
    "import numpy as np\n",
    "\n",
    "if __name__== \"__main__\":\n",
    "    print('='*120) \n",
    "    print('{:>15}{:>15}{:>15}{:>15}{:>15}{:>15}'.format('loss','Train Accuracy','Test Accuracy','# Epochs','Runtime','# Nonzero'))\n",
    "\n",
    "    param_list = [  'hinge', 'squared_hinge', 'log','squared_error']\n",
    "\n",
    "    for param in param_list:\n",
    "        model   = SGDClassifier(\n",
    "                                loss                = param,\n",
    "                                penalty             = 'elasticnet',\n",
    "                                alpha               = 1e-5,\n",
    "                                l1_ratio            = .1,\n",
    "                                fit_intercept       = False,     \n",
    "                                n_jobs              = 10,\n",
    "                                learning_rate       = 'optimal',\n",
    "                                verbose             = 0,\n",
    "                                tol                 = 1e-4,\n",
    "                                random_state        = 321\n",
    "        )\n",
    "\n",
    "        start                 = time.time()\n",
    "        model.fit(X_train, y_train)\n",
    "        train_accuracy       = model.score(X_train, y_train)    \n",
    "        test_accuracy        = model.score(X_test, y_test)   \n",
    "        SGD_n_iter_          = model.n_iter_\n",
    "        runtime              = time.time() - start\n",
    "\n",
    "        print('{:>15}{:>15.5f}{:>15.5f}{:>15.0f}{:>15.3f}{:>15.0f}'.format(param,train_accuracy,test_accuracy,SGD_n_iter_,runtime,np.count_nonzero(model.coef_)))\n",
    "\n",
    "    print('='*120) "
   ]
  }
 ],
 "metadata": {
  "language_info": {
   "name": "python"
  }
 },
 "nbformat": 4,
 "nbformat_minor": 2
}
